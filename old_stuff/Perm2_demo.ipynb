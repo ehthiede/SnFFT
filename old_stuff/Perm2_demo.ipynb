{
 "cells": [
  {
   "cell_type": "code",
   "execution_count": 1,
   "metadata": {},
   "outputs": [],
   "source": [
    "from perm2 import Perm2"
   ]
  },
  {
   "cell_type": "markdown",
   "metadata": {},
   "source": [
    "To create permutations using the Perm2 class (named this way b/c it's a more efficient rewrite of the original Perm class), we'll generally use the `Perm2.from_tup` static function. The input tuple $(a_1, a_2, ..., a_n)$ is the permutation that maps $1 \\rightarrow a_1$, $2 \\rightarrow a_2 ...$, and $n \\rightarrow a_n$."
   ]
  },
  {
   "cell_type": "code",
   "execution_count": 13,
   "metadata": {},
   "outputs": [
    {
     "name": "stdout",
     "output_type": "stream",
     "text": [
      "p[1] == 2\n",
      "p[2] == 3\n",
      "p[3] == 1\n"
     ]
    }
   ],
   "source": [
    "p1 = Perm2.from_tup((1, 2, 3))\n",
    "for i in range(1, p1.size + 1):\n",
    "    print('p[{}] == {}'.format(i, p[i]))"
   ]
  },
  {
   "cell_type": "code",
   "execution_count": 14,
   "metadata": {},
   "outputs": [
    {
     "name": "stdout",
     "output_type": "stream",
     "text": [
      "p[1] == 2\n",
      "p[2] == 3\n",
      "p[3] == 1\n",
      "p[4] == 4\n"
     ]
    }
   ],
   "source": [
    "p2 = Perm2.from_tup((2, 3, 1, 4))\n",
    "for i in range(1, p2.size + 1):\n",
    "    print('p[{}] == {}'.format(i, p[i]))"
   ]
  },
  {
   "cell_type": "markdown",
   "metadata": {},
   "source": [
    "You can multiply two permutations together using normal multiplication syntax:"
   ]
  },
  {
   "cell_type": "code",
   "execution_count": 24,
   "metadata": {},
   "outputs": [
    {
     "name": "stdout",
     "output_type": "stream",
     "text": [
      "p3 * p4 =  [[1, 2], [3, 4]]\n",
      "p4 * p3 =  [[1, 2], [3, 4]]\n",
      "p3 * p4 == p4 * p3:  True\n"
     ]
    }
   ],
   "source": [
    "p3 = Perm2.from_tup((2, 1, 3, 4))\n",
    "p4 = Perm2.from_tup((1, 2, 4, 3))\n",
    "print('p3 * p4 = ', p3 * p4)\n",
    "print('p4 * p3 = ', p4 * p3)\n",
    "print('p3 * p4 == p4 * p3: ', p3 * p4 == p4 * p3)"
   ]
  },
  {
   "cell_type": "markdown",
   "metadata": {},
   "source": [
    "Notice that the multiplication above commutes, but the multiplication only commutes above because the two permutations are \"disjoint\", they \"act\" on different numbers."
   ]
  },
  {
   "cell_type": "code",
   "execution_count": 25,
   "metadata": {},
   "outputs": [
    {
     "name": "stdout",
     "output_type": "stream",
     "text": [
      "p5 * p6 =  [[1, 2, 3, 4]]\n",
      "p6 * p5 =  [[1, 2, 4, 3]]\n",
      "p5 * p6 == p6 * p5:  False\n"
     ]
    }
   ],
   "source": [
    "p5 = Perm2.from_tup((2, 3, 1, 4))\n",
    "p6 = Perm2.from_tup((1, 2, 4, 3))\n",
    "print('p5 * p6 = ', p5 * p6)\n",
    "print('p6 * p5 = ', p6 * p5)\n",
    "print('p5 * p6 == p6 * p5: ', p5 * p6 == p6 * p5)"
   ]
  },
  {
   "cell_type": "markdown",
   "metadata": {},
   "source": [
    "Note: You can only multiply permutations of the same size. This is mostly due to ease of implementation more than anything else. But in our work we're mostly only dealing with $S_n$ for a fixed $n$."
   ]
  },
  {
   "cell_type": "markdown",
   "metadata": {},
   "source": [
    "# Cycle decomposition\n",
    "The string representation of a permutation is given as its cycle decomposition. Identity permutations don't have a cycle decomposition so they are written as an empty list. For example, recall that a permutation written in the following cycle notation: $$(a_1, a_2, ..., a_i) (b_1, b_2, ..., b_j)$$ is a permutation that maps\n",
    "$$a_1 \\rightarrow a_2, a_2 \\rightarrow a_3, ..., a_i \\rightarrow a_1$$\n",
    "$$b_1 \\rightarrow b_2, b_2 \\rightarrow b_3, ..., b_j \\rightarrow b_1$$"
   ]
  },
  {
   "cell_type": "code",
   "execution_count": 34,
   "metadata": {},
   "outputs": [
    {
     "name": "stdout",
     "output_type": "stream",
     "text": [
      "x: []\n",
      "y: [[2, 3], [4, 5, 6]]\n"
     ]
    }
   ],
   "source": [
    "x = Perm2.from_tup((1,2))\n",
    "y = Perm2.from_tup((1, 3, 2, 5, 6, 4))\n",
    "print('x: {}'.format(x))\n",
    "print('y: {}'.format(y))"
   ]
  },
  {
   "cell_type": "markdown",
   "metadata": {},
   "source": [
    "# Inverses\n",
    "The `Perm2` class also has a function for computing inverses. It is easy to check the inverse of a permutation - the elements of the permutation's cycle decomposition should be reversed. By convention, we have the first element of each cycle chosen to be the smallest number of that cycle to impose a canonical ordering of the cycle."
   ]
  },
  {
   "cell_type": "code",
   "execution_count": 33,
   "metadata": {},
   "outputs": [
    {
     "name": "stdout",
     "output_type": "stream",
     "text": [
      "Inverse of x: []\n",
      "Inverse of y: [[2, 3], [4, 6, 5]]\n"
     ]
    }
   ],
   "source": [
    "print('Inverse of x: {}'.format(x.inv()))\n",
    "print('Inverse of y: {}'.format(y.inv()))"
   ]
  }
 ],
 "metadata": {
  "kernelspec": {
   "display_name": "Python 3",
   "language": "python",
   "name": "python3"
  },
  "language_info": {
   "codemirror_mode": {
    "name": "ipython",
    "version": 3
   },
   "file_extension": ".py",
   "mimetype": "text/x-python",
   "name": "python",
   "nbconvert_exporter": "python",
   "pygments_lexer": "ipython3",
   "version": "3.6.7"
  }
 },
 "nbformat": 4,
 "nbformat_minor": 2
}
