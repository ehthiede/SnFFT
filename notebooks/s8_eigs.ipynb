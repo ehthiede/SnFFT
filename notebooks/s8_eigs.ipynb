{
 "cells": [
  {
   "cell_type": "code",
   "execution_count": 10,
   "metadata": {},
   "outputs": [],
   "source": [
    "import numpy as np\n",
    "import pandas as pd\n",
    "import matplotlib.pyplot as plt\n",
    "import random\n",
    "import torch\n",
    "import pdb\n",
    "from collections import Counter\n",
    "%matplotlib inline"
   ]
  },
  {
   "cell_type": "code",
   "execution_count": 3,
   "metadata": {},
   "outputs": [],
   "source": [
    "import sys\n",
    "#sys.path.append('../')\n",
    "from utils import partitions"
   ]
  },
  {
   "cell_type": "code",
   "execution_count": 4,
   "metadata": {},
   "outputs": [],
   "source": [
    "def str_to_tup(x):\n",
    "    return tuple(int(i) for i in x)"
   ]
  },
  {
   "cell_type": "code",
   "execution_count": 5,
   "metadata": {},
   "outputs": [],
   "source": [
    "def px_mult(p1, p2):\n",
    "    return tuple(\n",
    "        p1[p2[i] - 1] for i in range(len(p1))\n",
    "    )"
   ]
  },
  {
   "cell_type": "code",
   "execution_count": 6,
   "metadata": {},
   "outputs": [],
   "source": [
    "MOVES = [\n",
    "    (4, 2, 3, 5, 8, 6, 7, 1), \n",
    "    (8, 2, 3, 1, 4, 6, 7, 5), \n",
    "    (2, 7, 3, 4, 5, 6, 8, 1), \n",
    "    (8, 1, 3, 4, 5, 6, 2, 7), \n",
    "    (2, 3, 4, 1, 5, 6, 7, 8), \n",
    "    (4, 1, 2, 3, 5, 6, 7, 8),\n",
    "    (8, 2, 3, 1, 4, 6, 7, 5), \n",
    "    (4, 2, 3, 5, 8, 6, 7, 1), \n",
    "    (8, 1, 3, 4, 5, 6, 2, 7), \n",
    "    (2, 7, 3, 4, 5, 6, 8, 1), \n",
    "    (4, 1, 2, 3, 5, 6, 7, 8), \n",
    "    (2, 3, 4, 1, 5, 6, 7, 8),\n",
    "]\n",
    "def nbrs(ptup):\n",
    "    ns = [px_mult(m, ptup) for m in MOVES]\n",
    "    return ns"
   ]
  },
  {
   "cell_type": "code",
   "execution_count": 7,
   "metadata": {},
   "outputs": [],
   "source": [
    "def df_to_idx_dict(df):\n",
    "    idx_dict = {}\n",
    "    for idx, row in df.iterrows():\n",
    "        ptup = str_to_tup(row[0])\n",
    "        idx_dict[ptup] = idx\n",
    "    return idx_dict\n",
    "\n",
    "def df_to_dist_dict(df):\n",
    "    dist_dict = {}\n",
    "    for idx, row in df.iterrows():\n",
    "        ptup = str_to_tup(row[0])\n",
    "        dist_dict[ptup] = row[1]\n",
    "    return dist_dict"
   ]
  },
  {
   "cell_type": "code",
   "execution_count": 8,
   "metadata": {},
   "outputs": [],
   "source": [
    "def gen_adj(df, idx_dict):\n",
    "    adj = np.zeros((len(df), len(df)))\n",
    "    for idx, row in df.iterrows():\n",
    "        ptup = str_to_tup(row[0])\n",
    "        ns = nbrs(ptup)\n",
    "        nbr_idx = [idx_dict[n] for n in ns]\n",
    "        adj[idx, nbr_idx] = 1\n",
    "    return adj\n",
    "\n",
    "def gen_laplacian(adj):\n",
    "    deg = np.diag(adj.sum(axis=1))\n",
    "    return deg - adj\n",
    "\n",
    "def gen_normalized_laplacian(adj):\n",
    "    lapl = gen_laplacian(adj)\n",
    "    inv_deg = 1.0 / adj.sum(axis=1)\n",
    "    inv_rt_deg = np.sqrt(np.diag(inv_deg))\n",
    "    return inv_rt_deg @ lapl @ inv_rt_deg\n",
    "\n",
    "def gen_nlap(adj):\n",
    "    inv_deg = 1.0 / adj.sum(axis=1)\n",
    "    inv_rt_deg = np.sqrt(np.diag(inv_deg))\n",
    "    return np.eye(adj.shape[0]) - (inv_rt_deg @ adj @ inv_rt_deg)"
   ]
  },
  {
   "cell_type": "code",
   "execution_count": 11,
   "metadata": {},
   "outputs": [],
   "source": [
    "df = pd.read_csv('/home/hopan/github/idastar/s8_dists_fixedcore.txt', header=None,\n",
    "                 dtype={0: str, 1:int})\n",
    "true_dist = df[1].values\n",
    "dist_dict = df_to_dist_dict(df)\n",
    "idx_dict = df_to_idx_dict(df)\n",
    "states = list(dist_dict.keys())\n",
    "adj = gen_adj(df, idx_dict)\n",
    "lapl = gen_laplacian(adj)\n",
    "nlapl = gen_normalized_laplacian(adj)"
   ]
  },
  {
   "cell_type": "code",
   "execution_count": 12,
   "metadata": {},
   "outputs": [],
   "source": [
    "discounted_distance = np.array([0.8 ** x for x in true_dist])"
   ]
  },
  {
   "cell_type": "code",
   "execution_count": 13,
   "metadata": {},
   "outputs": [
    {
     "data": {
      "image/png": "[encoded data removed]",
      "text/plain": [
       "<Figure size 432x288 with 1 Axes>"
      ]
     },
     "metadata": {
      "needs_background": "light"
     },
     "output_type": "display_data"
    }
   ],
   "source": [
    "plt.bar(range(5040), discounted_distance)\n",
    "plt.title('Discounted distances: gamma = 0.8')\n",
    "plt.show()"
   ]
  },
  {
   "cell_type": "code",
   "execution_count": 14,
   "metadata": {},
   "outputs": [],
   "source": [
    "# torch versions\n",
    "adj_th = torch.from_numpy(adj)\n",
    "lapl_th = torch.from_numpy(lapl)\n",
    "nlapl_th = torch.from_numpy(nlapl)"
   ]
  },
  {
   "cell_type": "code",
   "execution_count": 15,
   "metadata": {},
   "outputs": [],
   "source": [
    "# eigs of laplacian and normalized laplacian\n",
    "lval, lvec = torch.symeig(lapl_th, eigenvectors=True)\n",
    "nlval, nlvec = torch.symeig(nlapl_th, eigenvectors=True)"
   ]
  },
  {
   "cell_type": "code",
   "execution_count": 16,
   "metadata": {},
   "outputs": [],
   "source": [
    "# numpy versions\n",
    "lvalnp = lval.numpy()\n",
    "lvecnp = lvec.numpy()\n",
    "nlvalnp = nlval.numpy()\n",
    "nlvecnp = nlvec.numpy()"
   ]
  },
  {
   "cell_type": "code",
   "execution_count": 20,
   "metadata": {},
   "outputs": [
    {
     "data": {
      "image/png": "[encoded data removed]",
      "text/plain": [
       "<Figure size 432x288 with 1 Axes>"
      ]
     },
     "metadata": {
      "needs_background": "light"
     },
     "output_type": "display_data"
    }
   ],
   "source": [
    "plt.bar(range(len(lval)), lvalnp)\n",
    "plt.title('Eigenvals of Laplacian')\n",
    "plt.show()"
   ]
  },
  {
   "cell_type": "code",
   "execution_count": 21,
   "metadata": {},
   "outputs": [
    {
     "data": {
      "image/png": "[encoded data removed]",
      "text/plain": [
       "<Figure size 432x288 with 1 Axes>"
      ]
     },
     "metadata": {
      "needs_background": "light"
     },
     "output_type": "display_data"
    }
   ],
   "source": [
    "plt.bar(range(len(nlval)), nlvalnp)\n",
    "plt.title('Eigenvals of Normalized Laplacian')\n",
    "plt.show()"
   ]
  },
  {
   "cell_type": "markdown",
   "metadata": {},
   "source": [
    "## Eigenvectors of the Graph Laplacian\n",
    "Recall that the graph laplacian is $L = D - A$ and has the following block diagonal form after a change of basis:\n",
    "$$T L T^{\\dagger} = T (I - A) T ^ \\dagger = I - T A T^\\dagger$$\n",
    "The adjacency matrix is the sum of the regular representations of the generators which block diagoalizes into the irreps. Let $\\Gamma$ be the set of generators of our group. Then:\n",
    "$$\\rho_{reg} (\\sigma) = \\oplus_{\\rho} \\oplus_{l = 0}^{d_\\rho} \\rho (\\sigma)$$\n",
    "So\n",
    "$$ T A T^{-1} =  \\oplus_{\\rho} \\oplus_{l = 0}^{d_\\rho} \\sum_{\\sigma \\in \\Gamma} \\rho (\\sigma)$$\n",
    "This tells us that the eigenvalues of each $M_{\\rho} = \\sum_{\\sigma \\in \\Gamma} \\rho(\\sigma)$ matrix will give us the eigenvectors of the graph laplacian and that the eigenvalues of $M_\\rho$ appear with multiplicity $d_\\rho$.\n",
    "\n",
    "However, as we can see from our experiments, this is not the case."
   ]
  },
  {
   "cell_type": "code",
   "execution_count": 22,
   "metadata": {},
   "outputs": [],
   "source": [
    "def prob_correct(state, idx_dict, dist_dict, vec):\n",
    "    ns = nbrs(state)\n",
    "    opt_nbr = None\n",
    "    opt_nbr_dist = None\n",
    "    for n in ns:\n",
    "        idx = idx_dict[n]\n",
    "        \n",
    "        ndist = dist_dict[idx]\n",
    "        vdist = vec[idx]\n",
    "        \n",
    "        if ndist < opt_nbr_dist:\n",
    "            opt_nbr_dist = ndist\n",
    "            opt_nbr = n\n",
    "    return "
   ]
  },
  {
   "cell_type": "code",
   "execution_count": 23,
   "metadata": {},
   "outputs": [],
   "source": [
    "def get_alphas(true_dist, vecs):\n",
    "    # columns of vecs are the basis\n",
    "    # compute the projection of true dist onto v for each v in vecs\n",
    "    vect = vecs.T\n",
    "    return vect.dot(true_dist)"
   ]
  },
  {
   "cell_type": "code",
   "execution_count": 26,
   "metadata": {},
   "outputs": [],
   "source": [
    "def reconstruct_top_k(srt_vecs, srt_alphas, k):\n",
    "    # each col of srt vecs is an eigvec\n",
    "    return srt_vecs[:, :k].dot(srt_alphas[:k])"
   ]
  },
  {
   "cell_type": "code",
   "execution_count": 24,
   "metadata": {},
   "outputs": [],
   "source": [
    "alphas_lap = get_alphas(lvecnp, true_dist)\n",
    "alphas_discount = get_alphas(lvecnp, discounted_distance)\n",
    "\n",
    "# take magnitude of alphas bc we care about which alphas contribute the \"most\"\n",
    "abs_alphas_lap = np.abs(alphas_lap)\n",
    "abs_alphas_disc = np.abs(alphas_discount)\n",
    "\n",
    "# compute sorted order of eigvals by abs value of coefficients\n",
    "abs_lap_order = np.argsort(-abs_alphas_lap) # sort by largest of the absolute values of alphas for true distance\n",
    "abs_disc_order = np.argsort(-abs_alphas_disc)\n",
    "\n",
    "# sort alphas\n",
    "srt_alphas_lap = alphas_lap[abs_lap_order]\n",
    "srt_alphas_disc = alphas_discount[abs_disc_order]\n",
    "\n",
    "# sort the eigevecs\n",
    "srt_lvecnp = lvecnp[:, abs_lap_order]\n",
    "srt_lvecnp_disc = lvecnp[:, abs_disc_order]"
   ]
  },
  {
   "cell_type": "code",
   "execution_count": 34,
   "metadata": {},
   "outputs": [
    {
     "name": "stderr",
     "output_type": "stream",
     "text": [
      "/home/hopan/anaconda3/lib/python3.7/site-packages/numpy/core/fromnumeric.py:3118: RuntimeWarning: Mean of empty slice.\n",
      "  out=out, **kwargs)\n",
      "/home/hopan/anaconda3/lib/python3.7/site-packages/numpy/core/_methods.py:85: RuntimeWarning: invalid value encountered in double_scalars\n",
      "  ret = ret.dtype.type(ret / rcount)\n"
     ]
    },
    {
     "data": {
      "image/png": "[encoded data removed]",
      "text/plain": [
       "<Figure size 432x288 with 1 Axes>"
      ]
     },
     "metadata": {
      "needs_background": "light"
     },
     "output_type": "display_data"
    },
    {
     "data": {
      "image/png": "[encoded data removed]",
      "text/plain": [
       "<Figure size 432x288 with 1 Axes>"
      ]
     },
     "metadata": {
      "needs_background": "light"
     },
     "output_type": "display_data"
    },
    {
     "data": {
      "image/png": "[encoded data removed]",
      "text/plain": [
       "<Figure size 432x288 with 1 Axes>"
      ]
     },
     "metadata": {
      "needs_background": "light"
     },
     "output_type": "display_data"
    },
    {
     "data": {
      "image/png": "[encoded data removed]",
      "text/plain": [
       "<Figure size 432x288 with 1 Axes>"
      ]
     },
     "metadata": {
      "needs_background": "light"
     },
     "output_type": "display_data"
    },
    {
     "data": {
      "image/png": "[encoded data removed]",
      "text/plain": [
       "<Figure size 432x288 with 1 Axes>"
      ]
     },
     "metadata": {
      "needs_background": "light"
     },
     "output_type": "display_data"
    }
   ],
   "source": [
    "strides = [100, 200, 300, 400, 500]\n",
    "for stride in strides:\n",
    "    k = 0\n",
    "    stuff = []\n",
    "    for k in range(len(alphas_lap // stride)):\n",
    "        stuff.append(np.median(np.abs(alphas_lap[k * stride: k * stride+ stride])))\n",
    "    plt.bar(range(len(stuff)), stuff)\n",
    "    plt.title('Median of abs alpha size over stride length: {}'.format(stride))\n",
    "    plt.show()"
   ]
  },
  {
   "cell_type": "code",
   "execution_count": 35,
   "metadata": {},
   "outputs": [
    {
     "name": "stderr",
     "output_type": "stream",
     "text": [
      "/home/hopan/anaconda3/lib/python3.7/site-packages/numpy/core/fromnumeric.py:3118: RuntimeWarning: Mean of empty slice.\n",
      "  out=out, **kwargs)\n",
      "/home/hopan/anaconda3/lib/python3.7/site-packages/numpy/core/_methods.py:85: RuntimeWarning: invalid value encountered in double_scalars\n",
      "  ret = ret.dtype.type(ret / rcount)\n"
     ]
    },
    {
     "data": {
      "image/png": "[encoded data removed]",
      "text/plain": [
       "<Figure size 432x288 with 1 Axes>"
      ]
     },
     "metadata": {
      "needs_background": "light"
     },
     "output_type": "display_data"
    },
    {
     "data": {
      "image/png": "[encoded data removed]",
      "text/plain": [
       "<Figure size 432x288 with 1 Axes>"
      ]
     },
     "metadata": {
      "needs_background": "light"
     },
     "output_type": "display_data"
    },
    {
     "data": {
      "image/png": "[encoded data removed]",
      "text/plain": [
       "<Figure size 432x288 with 1 Axes>"
      ]
     },
     "metadata": {
      "needs_background": "light"
     },
     "output_type": "display_data"
    },
    {
     "data": {
      "image/png": "[encoded data removed]",
      "text/plain": [
       "<Figure size 432x288 with 1 Axes>"
      ]
     },
     "metadata": {
      "needs_background": "light"
     },
     "output_type": "display_data"
    }
   ],
   "source": [
    "strides = [100, 200, 300, 400]\n",
    "for stride in strides:\n",
    "    k = 0\n",
    "    stuff = []\n",
    "    for k in range(len(alphas_discount // stride)):\n",
    "        stuff.append(np.median(np.abs(alphas_discountcount[k * stride: k * stride+ stride])))\n",
    "    plt.bar(range(len(stuff)), stuff)\n",
    "    plt.title('Median of abs alpha size over stride length: {}'.format(stride))\n",
    "    plt.show()"
   ]
  },
  {
   "cell_type": "code",
   "execution_count": 34,
   "metadata": {},
   "outputs": [
    {
     "name": "stdout",
     "output_type": "stream",
     "text": [
      "Reconstructed discounted 8.0000 | expected: 8.0000\n"
     ]
    }
   ],
   "source": [
    "print('Reconstructed discounted {:.4f} | expected: {:.4f}'.format(\n",
    "    reconstruct_top_k(srt_lvecnp, srt_alphas_lap, 5040)[-1],\n",
    "    8\n",
    "))"
   ]
  },
  {
   "cell_type": "code",
   "execution_count": 33,
   "metadata": {},
   "outputs": [
    {
     "name": "stdout",
     "output_type": "stream",
     "text": [
      "Reconstructed discounted 0.1678 | expected: 0.1678\n"
     ]
    }
   ],
   "source": [
    "print('Reconstructed discounted {:.4f} | expected: {:.4f}'.format(\n",
    "    reconstruct_top_k(srt_lvecnp_disc, srt_alphas_disc, 5040)[-1],\n",
    "    0.16777216\n",
    "))"
   ]
  },
  {
   "cell_type": "code",
   "execution_count": null,
   "metadata": {},
   "outputs": [],
   "source": [
    "%time plt.bar(range(5039), np.abs(srt_alphas_lap[1:]))\n",
    "%time plt.show()"
   ]
  },
  {
   "cell_type": "code",
   "execution_count": null,
   "metadata": {},
   "outputs": [],
   "source": [
    "%time plt.bar(range(5039), np.abs(srt_alphas_disc[1:]))\n",
    "%time plt.show()"
   ]
  },
  {
   "cell_type": "code",
   "execution_count": 38,
   "metadata": {},
   "outputs": [
    {
     "data": {
      "text/plain": [
       "0.0012201371484716742"
      ]
     },
     "execution_count": 38,
     "metadata": {},
     "output_type": "execute_result"
    }
   ],
   "source": [
    "%time plt.bar(range(5039), srt_alphas_disc[1:])\n",
    "%time plt.show()"
   ]
  },
  {
   "cell_type": "code",
   "execution_count": 95,
   "metadata": {},
   "outputs": [],
   "source": [
    "np.save('/local/hopan/s8cube/lap_eigvecs', lvecnp)"
   ]
  },
  {
   "cell_type": "code",
   "execution_count": 60,
   "metadata": {},
   "outputs": [],
   "source": [
    "def get_prop_correct(states, idx_dict, true_dist, fvec, reverse=False):\n",
    "    '''\n",
    "    Using fvec as the policy, see what proportion of the given states get pushed to a closer state (as given\n",
    "    by the true_dist vector)\n",
    "    states: list of tuples\n",
    "    idx_dict: dictionary mapping tuple (representing states) to ints (index into true_dist and fvec)\n",
    "    true_dist:\n",
    "    fvec: \n",
    "    '''\n",
    "    scale = -1 if reverse else 1\n",
    "    n_correct = 0\n",
    "    for p in states:\n",
    "        ns = nbrs(p)\n",
    "        nbr_idx = [idx_dict[n] for n in ns]\n",
    "        nbr_dist = scale * true_dist[nbr_idx]\n",
    "        nbr_dapprox = scale * fvec[nbr_idx]\n",
    "        \n",
    "        min_nbr_dist = np.min(nbr_dist)\n",
    "        min_idxs = [idx for idx, v in enumerate(nbr_dist) if v == min_nbr_dist]\n",
    "        if np.argmin(nbr_dapprox) in min_idxs:\n",
    "            n_correct += 1\n",
    "    return n_correct / len(states)"
   ]
  },
  {
   "cell_type": "code",
   "execution_count": 61,
   "metadata": {},
   "outputs": [
    {
     "name": "stdout",
     "output_type": "stream",
     "text": [
      "Top   10 | Prop norm: 0.647 | Prop eigs: 0.002 | Prop correct move: 0.827\n",
      "Top   20 | Prop norm: 0.714 | Prop eigs: 0.004 | Prop correct move: 0.874\n",
      "Top   40 | Prop norm: 0.768 | Prop eigs: 0.008 | Prop correct move: 0.921\n",
      "Top   80 | Prop norm: 0.819 | Prop eigs: 0.016 | Prop correct move: 0.962\n",
      "Top  160 | Prop norm: 0.863 | Prop eigs: 0.032 | Prop correct move: 0.988\n",
      "Top  320 | Prop norm: 0.902 | Prop eigs: 0.064 | Prop correct move: 0.998\n",
      "Top  640 | Prop norm: 0.938 | Prop eigs: 0.127 | Prop correct move: 1.000\n",
      "Top 1280 | Prop norm: 0.969 | Prop eigs: 0.254 | Prop correct move: 1.000\n",
      "Top 2560 | Prop norm: 0.993 | Prop eigs: 0.508 | Prop correct move: 1.000\n",
      "Top 5039 | Prop norm: 1.000 | Prop eigs: 1.000 | Prop correct move: 1.000\n"
     ]
    }
   ],
   "source": [
    "tot = np.linalg.norm(np.abs(srt_alphas_lap[1:]))\n",
    "ks = [10, 20, 40, 80, 160, 320, 640, 1280, 2560, 5039]\n",
    "for k in (ks):\n",
    "    norm = np.linalg.norm(np.abs(srt_alphas_lap[1:k+1])) / tot\n",
    "    krecon = reconstruct_top_k(srt_lvecnp, srt_alphas_lap, k)\n",
    "    acc = get_prop_correct(states, idx_dict, true_dist, krecon)\n",
    "    print('Top {:4d} | Prop norm: {:.3f} | Prop eigs: {:.3f} | Prop correct move: {:.3f}'.format(k, norm, k / 5039, acc))"
   ]
  },
  {
   "cell_type": "code",
   "execution_count": 65,
   "metadata": {},
   "outputs": [
    {
     "name": "stdout",
     "output_type": "stream",
     "text": [
      "Top   10 | Prop norm: 0.481 | Prop eigs: 0.002 | Prop correct move: 0.707\n",
      "Top   20 | Prop norm: 0.606 | Prop eigs: 0.004 | Prop correct move: 0.783\n",
      "Top   40 | Prop norm: 0.673 | Prop eigs: 0.008 | Prop correct move: 0.853\n",
      "Top   80 | Prop norm: 0.762 | Prop eigs: 0.016 | Prop correct move: 0.909\n",
      "Top  160 | Prop norm: 0.805 | Prop eigs: 0.032 | Prop correct move: 0.958\n",
      "Top  320 | Prop norm: 0.830 | Prop eigs: 0.064 | Prop correct move: 0.986\n",
      "Top  640 | Prop norm: 0.866 | Prop eigs: 0.127 | Prop correct move: 0.984\n",
      "Top 1280 | Prop norm: 0.917 | Prop eigs: 0.254 | Prop correct move: 0.999\n",
      "Top 2560 | Prop norm: 0.955 | Prop eigs: 0.508 | Prop correct move: 1.000\n",
      "Top 5039 | Prop norm: 1.000 | Prop eigs: 1.000 | Prop correct move: 1.000\n"
     ]
    }
   ],
   "source": [
    "# Using top k eigenvectors by their eigenvalue\n",
    "tot = np.linalg.norm(np.abs(alphas_lap[1:]))\n",
    "ks = [10, 20, 40, 80, 160, 320, 640, 1280, 2560, 5039]\n",
    "for k in (ks):\n",
    "    norm = np.linalg.norm(np.abs(alphas_lap[1:k+1])) / tot\n",
    "    krecon = reconstruct_top_k(lvecnp, alphas_lap, k)\n",
    "    acc = get_prop_correct(states, idx_dict, true_dist, krecon)\n",
    "    print('Top {:4d} | Prop norm: {:.3f} | Prop eigs: {:.3f} | Prop correct move: {:.3f}'.format(k, norm, k / 5039, acc))"
   ]
  },
  {
   "cell_type": "code",
   "execution_count": 66,
   "metadata": {},
   "outputs": [
    {
     "name": "stdout",
     "output_type": "stream",
     "text": [
      "Top   10 | Prop norm: 0.654 | Prop eigs: 0.002 | Prop correct move: 0.826\n",
      "Top   20 | Prop norm: 0.724 | Prop eigs: 0.004 | Prop correct move: 0.875\n",
      "Top   40 | Prop norm: 0.789 | Prop eigs: 0.008 | Prop correct move: 0.922\n",
      "Top   80 | Prop norm: 0.848 | Prop eigs: 0.016 | Prop correct move: 0.962\n",
      "Top  160 | Prop norm: 0.895 | Prop eigs: 0.032 | Prop correct move: 0.989\n",
      "Top  320 | Prop norm: 0.929 | Prop eigs: 0.064 | Prop correct move: 0.999\n",
      "Top  640 | Prop norm: 0.957 | Prop eigs: 0.127 | Prop correct move: 1.000\n",
      "Top 1280 | Prop norm: 0.979 | Prop eigs: 0.254 | Prop correct move: 1.000\n",
      "Top 2560 | Prop norm: 0.995 | Prop eigs: 0.508 | Prop correct move: 1.000\n",
      "Top 5039 | Prop norm: 1.000 | Prop eigs: 1.000 | Prop correct move: 1.000\n"
     ]
    }
   ],
   "source": [
    "# using the top k alpha eigenvectors for alpha = discounted distance vector\n",
    "tot = np.linalg.norm(np.abs(srt_alphas_disc[1:]))\n",
    "ks = [10, 20, 40, 80, 160, 320, 640, 1280, 2560, 5039]\n",
    "for k in (ks):\n",
    "    norm = np.linalg.norm(np.abs(srt_alphas_disc[1:k+1])) / tot\n",
    "    krecon = reconstruct_top_k(srt_lvecnp_disc, srt_alphas_disc, k)\n",
    "    acc = get_prop_correct(states, idx_dict, discounted_distance, krecon, reverse=True)\n",
    "    print('Top {:4d} | Prop norm: {:.3f} | Prop eigs: {:.3f} | Prop correct move: {:.3f}'.format(k, norm, k / 5039, acc))"
   ]
  },
  {
   "cell_type": "code",
   "execution_count": 67,
   "metadata": {},
   "outputs": [
    {
     "name": "stdout",
     "output_type": "stream",
     "text": [
      "Top   10 | Prop norm: 0.479 | Prop eigs: 0.002 | Prop correct move: 0.707\n",
      "Top   20 | Prop norm: 0.607 | Prop eigs: 0.004 | Prop correct move: 0.781\n",
      "Top   40 | Prop norm: 0.681 | Prop eigs: 0.008 | Prop correct move: 0.854\n",
      "Top   80 | Prop norm: 0.789 | Prop eigs: 0.016 | Prop correct move: 0.912\n",
      "Top  160 | Prop norm: 0.851 | Prop eigs: 0.032 | Prop correct move: 0.965\n",
      "Top  320 | Prop norm: 0.887 | Prop eigs: 0.064 | Prop correct move: 0.990\n",
      "Top  640 | Prop norm: 0.907 | Prop eigs: 0.127 | Prop correct move: 0.993\n",
      "Top 1280 | Prop norm: 0.943 | Prop eigs: 0.254 | Prop correct move: 1.000\n",
      "Top 2560 | Prop norm: 0.971 | Prop eigs: 0.508 | Prop correct move: 1.000\n",
      "Top 5039 | Prop norm: 1.000 | Prop eigs: 1.000 | Prop correct move: 1.000\n"
     ]
    }
   ],
   "source": [
    "# using the top k alpha eigenvectors for alpha = discounted distance vector\n",
    "tot = np.linalg.norm(np.abs(alphas_discount[1:]))\n",
    "ks = [10, 20, 40, 80, 160, 320, 640, 1280, 2560, 5039]\n",
    "for k in (ks):\n",
    "    norm = np.linalg.norm(np.abs(alphas_discount[1:k+1])) / tot\n",
    "    krecon = reconstruct_top_k(lvecnp, alphas_discount, k)\n",
    "    acc = get_prop_correct(states, idx_dict, discounted_distance, krecon, reverse=True)\n",
    "    print('Top {:4d} | Prop norm: {:.3f} | Prop eigs: {:.3f} | Prop correct move: {:.3f}'.format(k, norm, k / 5039, acc))"
   ]
  },
  {
   "cell_type": "code",
   "execution_count": 68,
   "metadata": {},
   "outputs": [],
   "source": [
    "def get_random_baseline(states, idx_dict, true_dist, reverse=False):\n",
    "    scale = -1 if reverse else 1\n",
    "    n_correct = 0\n",
    "    for p in states:\n",
    "        ns = nbrs(p)\n",
    "        nbr_idx = [idx_dict[n] for n in ns]\n",
    "        nbr_dist = scale * true_dist[nbr_idx]\n",
    "        \n",
    "        min_nbr_dist = np.min(nbr_dist)\n",
    "        min_idxs = [idx for idx, v in enumerate(nbr_dist) if v == min_nbr_dist]\n",
    "        #pdb.set_trace()\n",
    "        if np.random.randint(len(ns) + 1) in min_idxs:\n",
    "            n_correct += 1\n",
    "    return n_correct / len(states)"
   ]
  },
  {
   "cell_type": "code",
   "execution_count": 85,
   "metadata": {},
   "outputs": [],
   "source": [
    "shuffled_states = states[:]\n",
    "random.shuffle(shuffled_states)"
   ]
  },
  {
   "cell_type": "code",
   "execution_count": 91,
   "metadata": {},
   "outputs": [
    {
     "data": {
      "text/plain": [
       "0.4589285714285714"
      ]
     },
     "execution_count": 91,
     "metadata": {},
     "output_type": "execute_result"
    }
   ],
   "source": [
    "get_random_baseline(shuffled_states, idx_dict, true_dist)"
   ]
  },
  {
   "cell_type": "code",
   "execution_count": 68,
   "metadata": {},
   "outputs": [
    {
     "data": {
      "text/plain": [
       "0.4601190476190476"
      ]
     },
     "execution_count": 68,
     "metadata": {},
     "output_type": "execute_result"
    }
   ],
   "source": [
    "get_random_baseline(states, idx_dict, discounted_distance, reverse=True)"
   ]
  },
  {
   "cell_type": "code",
   "execution_count": 103,
   "metadata": {},
   "outputs": [
    {
     "data": {
      "text/plain": [
       "tensor([10.9817, 10.9817, 10.9817, 10.9817, 10.9817, 10.9817, 10.9817, 10.9817,\n",
       "        10.9817, 12.0000], dtype=torch.float64)"
      ]
     },
     "execution_count": 103,
     "metadata": {},
     "output_type": "execute_result"
    }
   ],
   "source": [
    "lval[-10:]"
   ]
  },
  {
   "cell_type": "code",
   "execution_count": 73,
   "metadata": {},
   "outputs": [
    {
     "name": "stdout",
     "output_type": "stream",
     "text": [
      "Top   10 | Prop norm: 0.481 | Prop eigs: 0.002 | Prop correct move: 0.707\n",
      "Top   20 | Prop norm: 0.606 | Prop eigs: 0.004 | Prop correct move: 0.783\n",
      "Top   40 | Prop norm: 0.673 | Prop eigs: 0.008 | Prop correct move: 0.853\n",
      "Top   80 | Prop norm: 0.762 | Prop eigs: 0.016 | Prop correct move: 0.909\n",
      "Top  160 | Prop norm: 0.805 | Prop eigs: 0.032 | Prop correct move: 0.958\n",
      "Top  320 | Prop norm: 0.830 | Prop eigs: 0.064 | Prop correct move: 0.986\n",
      "Top  640 | Prop norm: 0.866 | Prop eigs: 0.127 | Prop correct move: 0.984\n",
      "Top 1280 | Prop norm: 0.917 | Prop eigs: 0.254 | Prop correct move: 0.999\n",
      "Top 2560 | Prop norm: 0.955 | Prop eigs: 0.508 | Prop correct move: 1.000\n",
      "Top 5039 | Prop norm: 1.000 | Prop eigs: 1.000 | Prop correct move: 1.000\n"
     ]
    }
   ],
   "source": [
    "tot = np.linalg.norm(np.abs(srt_alphas_lap[1:]))\n",
    "ks = [10, 20, 40, 80, 160, 320, 640, 1280, 2560, 5039]\n",
    "for k in (ks):\n",
    "    norm = np.linalg.norm(np.abs(alphas_lap[1:k+1])) / tot\n",
    "    #krecon = reconstruct_top_k(srt_lvecnp, srt_alphas_lap, k)\n",
    "    krecon = reconstruct_top_k(lvecnp, alphas_lap, k)\n",
    "    acc = get_prop_correct(states, idx_dict, true_dist, krecon)\n",
    "    print('Top {:4d} | Prop norm: {:.3f} | Prop eigs: {:.3f} | Prop correct move: {:.3f}'.format(k, norm, k / 5039, acc))"
   ]
  },
  {
   "cell_type": "code",
   "execution_count": 77,
   "metadata": {},
   "outputs": [
    {
     "name": "stdout",
     "output_type": "stream",
     "text": [
      "Top   10 | Prop norm: 0.479 | Prop eigs: 0.002 | Prop correct move: 0.707\n",
      "Top   20 | Prop norm: 0.607 | Prop eigs: 0.004 | Prop correct move: 0.781\n",
      "Top   40 | Prop norm: 0.681 | Prop eigs: 0.008 | Prop correct move: 0.854\n",
      "Top   80 | Prop norm: 0.789 | Prop eigs: 0.016 | Prop correct move: 0.912\n",
      "Top  160 | Prop norm: 0.851 | Prop eigs: 0.032 | Prop correct move: 0.965\n",
      "Top  320 | Prop norm: 0.887 | Prop eigs: 0.064 | Prop correct move: 0.990\n",
      "Top  640 | Prop norm: 0.907 | Prop eigs: 0.127 | Prop correct move: 0.993\n",
      "Top 1280 | Prop norm: 0.943 | Prop eigs: 0.254 | Prop correct move: 1.000\n",
      "Top 2560 | Prop norm: 0.971 | Prop eigs: 0.508 | Prop correct move: 1.000\n",
      "Top 5039 | Prop norm: 1.000 | Prop eigs: 1.000 | Prop correct move: 1.000\n"
     ]
    }
   ],
   "source": [
    "tot = np.linalg.norm(np.abs(srt_alphas_disc[1:]))\n",
    "ks = [10, 20, 40, 80, 160, 320, 640, 1280, 2560, 5039]\n",
    "for k in (ks):\n",
    "    norm = np.linalg.norm(np.abs(alphas_discount[1:k+1])) / tot\n",
    "    #krecon = reconstruct_top_k(srt_lvecnp, srt_alphas_lap, k)\n",
    "    krecon = reconstruct_top_k(lvecnp, alphas_discount, k)\n",
    "    acc = get_prop_correct(states, idx_dict, discounted_distance, krecon, reverse=True)\n",
    "    print('Top {:4d} | Prop norm: {:.3f} | Prop eigs: {:.3f} | Prop correct move: {:.3f}'.format(k, norm, k / 5039, acc))"
   ]
  },
  {
   "cell_type": "code",
   "execution_count": 282,
   "metadata": {},
   "outputs": [],
   "source": [
    "srt_lvalnp = lvalnp[abs_lap_order]\n",
    "srt_lvecnp = lvecnp[:, abs_lap_order]"
   ]
  },
  {
   "cell_type": "code",
   "execution_count": null,
   "metadata": {},
   "outputs": [],
   "source": [
    "def heat_kernel(eigval, beta):\n",
    "    return torch.exp(eigval * beta)\n",
    "\n",
    "def hk_mat(eigval, eigvec, beta):\n",
    "    '''\n",
    "    Computes e^{\\beta L}. Note this is NOT just elementwise exponentiation\n",
    "    e^{\\beta L} = \\sum_{n = 0}^\\infty \\beta^n L^n / n!\n",
    "    '''\n",
    "    evs = heat_kernel(eigval, beta)\n",
    "    return eigvec.matmul(torch.diag(evs).matmul(eigvec.t()))"
   ]
  },
  {
   "cell_type": "code",
   "execution_count": null,
   "metadata": {},
   "outputs": [],
   "source": [
    "mat = lap_eigvec.matmul(torch.diag(lap_eig).matmul(lap_eigvec.t()))"
   ]
  },
  {
   "cell_type": "code",
   "execution_count": null,
   "metadata": {},
   "outputs": [],
   "source": [
    "input_state =torch.zeros(len(lap_eig), 1).type_as(mat)\n",
    "input_state[0, 0] = 1"
   ]
  },
  {
   "cell_type": "code",
   "execution_count": null,
   "metadata": {},
   "outputs": [],
   "source": [
    "betas = [0.1, 0.2, 0.4, 0.8]\n",
    "idx = np.arange(len(lap_eig))\n",
    "for b in betas:\n",
    "    diff_mat = hk_mat(lap_eig, lap_eigvec, b)\n",
    "    res = diff_mat.matmul(input_state).squeeze(-1)\n",
    "    res = res.numpy()\n",
    "    plt.bar(idx, res)\n",
    "    plt.show()"
   ]
  },
  {
   "cell_type": "code",
   "execution_count": null,
   "metadata": {},
   "outputs": [],
   "source": [
    "m1 = hk_mat(lap_eig, lap_eigvec, beta=1)\n",
    "p1 = np.matmul(m1, input_state).reshape(-1)"
   ]
  },
  {
   "cell_type": "code",
   "execution_count": null,
   "metadata": {},
   "outputs": [],
   "source": [
    "st = 2000\n",
    "k = 3000\n",
    "plt.bar(range(k), p1[st:st+k])"
   ]
  },
  {
   "cell_type": "code",
   "execution_count": null,
   "metadata": {},
   "outputs": [],
   "source": [
    "#m4 = hk_mat(lap_eig, lap_eigvec, beta=0.4)\n",
    "m12 = hk_mat(lap_eig, lap_eigvec, beta=0.412)"
   ]
  },
  {
   "cell_type": "code",
   "execution_count": null,
   "metadata": {},
   "outputs": [],
   "source": [
    "p4 = np.matmul(m4, input_state).reshape(-1)\n",
    "p12 = np.matmul(m12, input_state).reshape(-1)"
   ]
  },
  {
   "cell_type": "code",
   "execution_count": null,
   "metadata": {},
   "outputs": [],
   "source": [
    "plt.bar(range(len(lap_eig)), p4)\n",
    "plt.ylim(0, p4[1])\n",
    "plt.show()"
   ]
  },
  {
   "cell_type": "code",
   "execution_count": null,
   "metadata": {},
   "outputs": [],
   "source": [
    "plt.bar(range(len(lap_eig)), p12)\n",
    "plt.ylim(0, p12[1])\n",
    "plt.show()"
   ]
  },
  {
   "cell_type": "code",
   "execution_count": null,
   "metadata": {},
   "outputs": [],
   "source": [
    "plt.bar(idx[:1000], res[:1000])\n",
    "plt.ylim(0, 0.04)\n",
    "plt.show()"
   ]
  },
  {
   "cell_type": "code",
   "execution_count": null,
   "metadata": {},
   "outputs": [],
   "source": [
    "plt.bar(range(len(lap_eig)), -lap_eig)\n",
    "plt.show()"
   ]
  },
  {
   "cell_type": "code",
   "execution_count": null,
   "metadata": {},
   "outputs": [],
   "source": [
    "def gen_feval_func(idx_dict, vec):\n",
    "    def f(ptup):\n",
    "        idx = idx_dict[ptup]\n",
    "        return -vec[idx]\n",
    "    return f"
   ]
  },
  {
   "cell_type": "code",
   "execution_count": null,
   "metadata": {},
   "outputs": [],
   "source": [
    "def is_done(ptup):\n",
    "    return ptup == (1,2,3,4,5,6,7,8)\n",
    "\n",
    "def neighbors(ptup):\n",
    "    ns = [px_mult(m, ptup) for m in MOVES]\n",
    "    return ns"
   ]
  },
  {
   "cell_type": "code",
   "execution_count": null,
   "metadata": {},
   "outputs": [],
   "source": [
    "import pdb"
   ]
  },
  {
   "cell_type": "code",
   "execution_count": null,
   "metadata": {},
   "outputs": [],
   "source": [
    "tups = list(idx_dict.keys())"
   ]
  },
  {
   "cell_type": "code",
   "execution_count": null,
   "metadata": {},
   "outputs": [],
   "source": [
    "def rand_el(tups):\n",
    "    return random.choice(tups)"
   ]
  },
  {
   "cell_type": "code",
   "execution_count": null,
   "metadata": {},
   "outputs": [],
   "source": [
    "id_tup = (1,2,3,4,5,6,7,8)\n",
    "g = rand_el(tups)\n",
    "gdist = dist_dict[g]\n",
    "maxiters = 20\n",
    "feval4 = gen_feval_func(idx_dict, p4)\n",
    "feval12 = gen_feval_func(idx_dict, p12)\n",
    "feval1 = gen_feval_func(idx_dict, p1)\n",
    "print(gdist, g)"
   ]
  },
  {
   "cell_type": "markdown",
   "metadata": {},
   "source": [
    "todo: approximate true function with the fourier basis\n",
    "sort them by alpha, see how prop correct by num basis functions?\n",
    "- eigvalues are already sorted"
   ]
  },
  {
   "cell_type": "code",
   "execution_count": null,
   "metadata": {},
   "outputs": [],
   "source": [
    "def alphas_true_dist(true_dist, vecs):\n",
    "    alphas = vecs.T.dot(true_dist)\n",
    "    return alphas"
   ]
  },
  {
   "cell_type": "code",
   "execution_count": null,
   "metadata": {},
   "outputs": [],
   "source": [
    "true_dist = df[1]\n",
    "lap_ev_np = lap_eigvec.numpy()\n",
    "%time alphas = alphas_true_dist(true_dist, lap_ev_np)"
   ]
  },
  {
   "cell_type": "code",
   "execution_count": 208,
   "metadata": {},
   "outputs": [
    {
     "ename": "NameError",
     "evalue": "name 'lap_ev_np' is not defined",
     "output_type": "error",
     "traceback": [
      "\u001b[0;31m---------------------------------------------------------------------------\u001b[0m",
      "\u001b[0;31mNameError\u001b[0m                                 Traceback (most recent call last)",
      "\u001b[0;32m<ipython-input-208-4100c3940541>\u001b[0m in \u001b[0;36m<module>\u001b[0;34m()\u001b[0m\n\u001b[0;32m----> 1\u001b[0;31m \u001b[0mres_alphas\u001b[0m \u001b[0;34m=\u001b[0m \u001b[0mlap_ev_np\u001b[0m\u001b[0;34m.\u001b[0m\u001b[0mdot\u001b[0m\u001b[0;34m(\u001b[0m\u001b[0malphas\u001b[0m\u001b[0;34m)\u001b[0m\u001b[0;34m\u001b[0m\u001b[0;34m\u001b[0m\u001b[0m\n\u001b[0m",
      "\u001b[0;31mNameError\u001b[0m: name 'lap_ev_np' is not defined"
     ]
    }
   ],
   "source": [
    "res_alphas = lap_ev_np.dot(alphas)"
   ]
  },
  {
   "cell_type": "code",
   "execution_count": null,
   "metadata": {},
   "outputs": [],
   "source": [
    "sorted_abs = np.sort(np.abs(alphas))"
   ]
  },
  {
   "cell_type": "code",
   "execution_count": null,
   "metadata": {},
   "outputs": [],
   "source": [
    "plt.bar(range(len(alphas)), sorted_abs)\n",
    "plt.show()"
   ]
  },
  {
   "cell_type": "markdown",
   "metadata": {},
   "source": [
    "We've computed the alphas for the eigenvectors\n",
    "now we'd like to see, using the largest alpha eigenvectors, how often do we move from cube state to an \"optimal\" neighbor?"
   ]
  },
  {
   "cell_type": "code",
   "execution_count": null,
   "metadata": {},
   "outputs": [],
   "source": [
    "x = np.array([1, 3, 2, 4])\n",
    "np.argsort(x)"
   ]
  },
  {
   "cell_type": "code",
   "execution_count": null,
   "metadata": {},
   "outputs": [],
   "source": [
    "sorted_idx_alphas = np.argsort(alphas)"
   ]
  },
  {
   "cell_type": "code",
   "execution_count": null,
   "metadata": {},
   "outputs": [],
   "source": [
    "plt.hist(lap_ev_np[-2], bins=30)\n",
    "plt.show()"
   ]
  },
  {
   "cell_type": "code",
   "execution_count": null,
   "metadata": {},
   "outputs": [],
   "source": [
    "lap_ev_np[sorted_idx_alphas].shape"
   ]
  },
  {
   "cell_type": "code",
   "execution_count": null,
   "metadata": {},
   "outputs": [],
   "source": [
    "idxset = set(sorted_idx_alphas)"
   ]
  },
  {
   "cell_type": "code",
   "execution_count": null,
   "metadata": {},
   "outputs": [],
   "source": [
    "alphas[:10]"
   ]
  },
  {
   "cell_type": "code",
   "execution_count": null,
   "metadata": {},
   "outputs": [],
   "source": [
    "idx = list(sorted_idx_alphas)"
   ]
  },
  {
   "cell_type": "code",
   "execution_count": null,
   "metadata": {},
   "outputs": [],
   "source": [
    "asorted = sorted(alphas, key=lambda x: abs(x))"
   ]
  },
  {
   "cell_type": "code",
   "execution_count": null,
   "metadata": {},
   "outputs": [],
   "source": [
    "k = 1000\n",
    "plt.bar(range(k), np.log(np.abs(asorted[-k:])))\n",
    "plt.show()"
   ]
  },
  {
   "cell_type": "code",
   "execution_count": null,
   "metadata": {},
   "outputs": [],
   "source": [
    "def sorted_eigs(evecs, evals):\n",
    "    sorted_idx_alphas_abs = np.argsort(-np.abs(evals))\n",
    "    sorted_vecs = evecs[sorted_idx_alphas_abs]\n",
    "    sorted_alphas = evals[sorted_idx_alphas_abs]\n",
    "    return sorted_vecs, sorted_alphas"
   ]
  },
  {
   "cell_type": "code",
   "execution_count": null,
   "metadata": {},
   "outputs": [],
   "source": [
    "def reconstruct(vecs, alphas, k):\n",
    "    vecs_k = vecs[:k] # this is k x 5040\n",
    "    alphas_k = alphas[:k]\n",
    "    return vecs_k.T.dot(alphas_k)"
   ]
  },
  {
   "cell_type": "code",
   "execution_count": null,
   "metadata": {},
   "outputs": [],
   "source": [
    "srt_evec, srt_eval = sorted_eigs(lap_ev_np, alphas)"
   ]
  },
  {
   "cell_type": "code",
   "execution_count": null,
   "metadata": {},
   "outputs": [],
   "source": [
    "true_norm = np.linalg.norm(true_dist)\n",
    "for k in range(0, 5041, 1000):\n",
    "    recon = reconstruct(srt_evec, srt_eval / true_norm, k)\n",
    "    dist = np.linalg.norm(recon - (true_dist / true_norm))\n",
    "    print(f'{k:4d} | Dist: {dist:.4f}')"
   ]
  }
 ],
 "metadata": {
  "kernelspec": {
   "display_name": "base",
   "language": "python",
   "name": "python3-env"
  },
  "language_info": {
   "codemirror_mode": {
    "name": "ipython",
    "version": 3
   },
   "file_extension": ".py",
   "mimetype": "text/x-python",
   "name": "python",
   "nbconvert_exporter": "python",
   "pygments_lexer": "ipython3",
   "version": "3.7.4"
  }
 },
 "nbformat": 4,
 "nbformat_minor": 2
}
